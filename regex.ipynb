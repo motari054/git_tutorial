{
 "cells": [
  {
   "cell_type": "code",
   "execution_count": null,
   "metadata": {},
   "outputs": [],
   "source": [
    "import regex as re\n",
    "\n",
    "text = '''Starting in MongoDB 5.0, applications can specify the server API version\n",
    "to use when creating a :class:`~pymongo.mongo_client.MongoClient`. Doing so\n",
    "ensures that the driver behaves in a manner compatible with that server API\n",
    "version, regardless of the server's actual release version'''\n",
    "\n",
    "# re.findall(r'\\w*\\.\\s', text)\n",
    "\n",
    "re.findall(r'\\b\\w*[e][r]\\w*\\b', text)"
   ]
  }
 ],
 "metadata": {
  "kernelspec": {
   "display_name": "Python 3",
   "language": "python",
   "name": "python3"
  },
  "language_info": {
   "name": "python",
   "version": "3.12.2"
  }
 },
 "nbformat": 4,
 "nbformat_minor": 2
}
