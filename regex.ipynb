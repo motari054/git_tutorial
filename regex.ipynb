{
 "cells": [
  {
   "cell_type": "code",
   "execution_count": 1,
   "metadata": {},
   "outputs": [
    {
     "data": {
      "text/plain": [
       "['server',\n",
       " 'version',\n",
       " 'driver',\n",
       " 'manner',\n",
       " 'server',\n",
       " 'version',\n",
       " 'server',\n",
       " 'version']"
      ]
     },
     "execution_count": 1,
     "metadata": {},
     "output_type": "execute_result"
    }
   ],
   "source": [
    "import regex as re\n",
    "\n",
    "text = '''Starting in MongoDB 5.0, applications can specify the server API version\n",
    "to use when creating a :class:`~pymongo.mongo_client.MongoClient`. Doing so\n",
    "ensures that the driver behaves in a manner compatible with that server API\n",
    "version, regardless of the server's actual release version'''\n",
    "\n",
    "# re.findall(r'\\w*\\.\\s', text)\n",
    "\n",
    "re.findall(r'\\b\\w*[e][r]\\w*\\b', text)"
   ]
  },
  {
   "cell_type": "code",
   "execution_count": null,
   "metadata": {},
   "outputs": [],
   "source": [
    "from sklearn.model_selection import train_test_split\n",
    "from sklearn.datasets import clear_data_home"
   ]
  },
  {
   "cell_type": "code",
   "execution_count": 14,
   "metadata": {},
   "outputs": [
    {
     "data": {
      "text/plain": [
       "['Git is']"
      ]
     },
     "execution_count": 14,
     "metadata": {},
     "output_type": "execute_result"
    }
   ],
   "source": [
    "new_text = '''Git is a distributed version control system that tracks changes in any set of computer files, \n",
    "usually used for coordinating work among programmers who are collaboratively developing source\n",
    "code during software development. Git's goals include speed, data integrity, and support for\n",
    "distributed, non-linear workflows'''\n",
    "\n",
    "re.findall(r'\\b^Git[\\w.\\w]*\\s\\w*\\b', new_text)"
   ]
  }
 ],
 "metadata": {
  "kernelspec": {
   "display_name": "Python 3",
   "language": "python",
   "name": "python3"
  },
  "language_info": {
   "codemirror_mode": {
    "name": "ipython",
    "version": 3
   },
   "file_extension": ".py",
   "mimetype": "text/x-python",
   "name": "python",
   "nbconvert_exporter": "python",
   "pygments_lexer": "ipython3",
   "version": "3.12.2"
  }
 },
 "nbformat": 4,
 "nbformat_minor": 2
}
